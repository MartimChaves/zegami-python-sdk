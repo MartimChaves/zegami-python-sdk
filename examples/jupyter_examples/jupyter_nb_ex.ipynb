{
 "cells": [
  {
   "cell_type": "markdown",
   "metadata": {},
   "source": [
    "# Jupyter Notebook Zegami SDK example\n",
    "\n",
    "This notebook aims to demonstrate how the Zegami Python SDK can be used with jupyter notebooks."
   ]
  },
  {
   "cell_type": "markdown",
   "metadata": {},
   "source": [
    "## Table of Contents\n",
    "\n",
    "- Imports"
   ]
  },
  {
   "cell_type": "markdown",
   "metadata": {},
   "source": [
    "## 1. Imports"
   ]
  },
  {
   "cell_type": "code",
   "execution_count": 2,
   "metadata": {},
   "outputs": [],
   "source": [
    "from zegami_sdk.client import ZegamiClient\n",
    "from zegami_sdk.source import UploadableSource"
   ]
  },
  {
   "cell_type": "markdown",
   "metadata": {},
   "source": [
    "# 2. Zegami Client and Workspace"
   ]
  },
  {
   "cell_type": "code",
   "execution_count": 3,
   "metadata": {},
   "outputs": [
    {
     "name": "stdout",
     "output_type": "stream",
     "text": [
      "Used token from '/home/martim-zegami/zegami_com.zegami.token'.\n",
      "Client initialized successfully, welcome .\n",
      "\n"
     ]
    }
   ],
   "source": [
    "zc = ZegamiClient()"
   ]
  },
  {
   "cell_type": "code",
   "execution_count": 24,
   "metadata": {},
   "outputs": [],
   "source": [
    "WORKSPACE_ID = zc.workspaces[0].id\n",
    "workspace = zc.get_workspace_by_id(WORKSPACE_ID)"
   ]
  },
  {
   "cell_type": "markdown",
   "metadata": {},
   "source": [
    "# 3. Data Path and Source"
   ]
  },
  {
   "cell_type": "code",
   "execution_count": 29,
   "metadata": {},
   "outputs": [],
   "source": [
    "data_file = r\"./data/nations-collection/world-happiness-data.csv\"\n",
    "images = r\"./data/nations-collection/images\"\n",
    "name_col_image_files = r\"image\"\n",
    "source_name = r\"local_world_flags\" # For descriptive (?) purposes"
   ]
  },
  {
   "cell_type": "code",
   "execution_count": 30,
   "metadata": {},
   "outputs": [
    {
     "name": "stdout",
     "output_type": "stream",
     "text": [
      "UploadableSource \"local_world_flags\" found 198 images in \"./data/nations-collection/images\"\n"
     ]
    }
   ],
   "source": [
    "upload1 = UploadableSource(source_name, images, name_col_image_files)"
   ]
  },
  {
   "cell_type": "markdown",
   "metadata": {},
   "source": [
    "# 4. Create Collection"
   ]
  },
  {
   "cell_type": "code",
   "execution_count": 31,
   "metadata": {},
   "outputs": [
    {
     "name": "stdout",
     "output_type": "stream",
     "text": [
      "- Parsing uploadable source list\n",
      "- Checking data matches uploadable sources\n",
      "- Creating blank collection \"nations_of_the_world\"\n",
      "- Uploading data\n",
      "- Registering collection sources to uploadable sources\n",
      "- Uploadable source 0 \"local_world_flags\" beginning upload\n"
     ]
    },
    {
     "name": "stderr",
     "output_type": "stream",
     "text": [
      "100%|██████████| 200/200 [00:04<00:00, 40.86image/s] \n"
     ]
    },
    {
     "name": "stdout",
     "output_type": "stream",
     "text": [
      "\n",
      "- Finished collection \"nations_of_the_world\" upload using 1 image source with data of shape 156 rows x 22 columns\n"
     ]
    },
    {
     "data": {
      "text/plain": [
       "<CollectionV2 id=62792f0488e4d3d7181d8256 name=nations_of_the_world>"
      ]
     },
     "execution_count": 31,
     "metadata": {},
     "output_type": "execute_result"
    }
   ],
   "source": [
    "workspace.create_collection('nations_of_the_world', upload1, data_file)"
   ]
  },
  {
   "cell_type": "markdown",
   "metadata": {},
   "source": [
    "# 5. Iframe"
   ]
  },
  {
   "cell_type": "code",
   "execution_count": null,
   "metadata": {},
   "outputs": [],
   "source": []
  }
 ],
 "metadata": {
  "interpreter": {
   "hash": "17361232fb9bcb0ba5939612f19d0269bf9334e24dd707504afe9bf985e11e05"
  },
  "kernelspec": {
   "display_name": "Python 3.9.12 ('env': venv)",
   "language": "python",
   "name": "python3"
  },
  "language_info": {
   "codemirror_mode": {
    "name": "ipython",
    "version": 3
   },
   "file_extension": ".py",
   "mimetype": "text/x-python",
   "name": "python",
   "nbconvert_exporter": "python",
   "pygments_lexer": "ipython3",
   "version": "3.9.12"
  }
 },
 "nbformat": 4,
 "nbformat_minor": 2
}
